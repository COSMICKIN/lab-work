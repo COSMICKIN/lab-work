{
 "cells": [
  {
   "cell_type": "code",
   "execution_count": null,
   "metadata": {},
   "outputs": [],
   "source": [
    "#Question 1: wap to create a tuple\n",
    "tup=(\"a\",\"b\",\"c\")"
   ]
  },
  {
   "cell_type": "code",
   "execution_count": 3,
   "metadata": {},
   "outputs": [
    {
     "name": "stdout",
     "output_type": "stream",
     "text": [
      "('a', 'b', 1)\n"
     ]
    }
   ],
   "source": [
    "#Question 2 : wap to create a tuple with different data types\n",
    "tup=(\"a\",\"b\",1)\n",
    "print(tup)\n",
    "\n"
   ]
  },
  {
   "cell_type": "code",
   "execution_count": 4,
   "metadata": {},
   "outputs": [
    {
     "name": "stdout",
     "output_type": "stream",
     "text": [
      "3\n"
     ]
    }
   ],
   "source": [
    "# Question 3: wap to create a tuple with no and print one element from it\n",
    "tup=(\"1\",\"2\",\"3\")\n",
    "print(tup[2])"
   ]
  },
  {
   "cell_type": "code",
   "execution_count": 11,
   "metadata": {},
   "outputs": [
    {
     "name": "stdout",
     "output_type": "stream",
     "text": [
      "0 : a\n",
      "1 : b\n",
      "2 : c\n"
     ]
    }
   ],
   "source": [
    "#Question 4:wap to unpack a tuple in several variables\n",
    "tup=(\"a\",\"b\",\"c\")\n",
    "for i in range(0,3):\n",
    "    var=tup[i]\n",
    "    print(i,\":\",var)"
   ]
  },
  {
   "cell_type": "code",
   "execution_count": 13,
   "metadata": {},
   "outputs": [
    {
     "name": "stdout",
     "output_type": "stream",
     "text": [
      "('a', 'b', 'c', 'd')\n"
     ]
    }
   ],
   "source": [
    "#Question 5: wap to add items in a tuple\n",
    "tup=(\"a\",\"b\",\"c\")\n",
    "lst1=list(tup)\n",
    "lst1.append(\"d\")\n",
    "tup=tuple(lst1)\n",
    "print(tup)\n"
   ]
  },
  {
   "cell_type": "code",
   "execution_count": 16,
   "metadata": {},
   "outputs": [
    {
     "name": "stdout",
     "output_type": "stream",
     "text": [
      "('a', 'b', 'c')d\n",
      "('a', 'b', 'c')\n"
     ]
    }
   ],
   "source": [
    "#Question 6: wap to convert a tuple into a string\n",
    "tup=(\"a\",\"b\",\"c\")\n",
    "stn=str(tup)\n",
    "print(stn+\"d\")\n",
    "print(stn)"
   ]
  },
  {
   "cell_type": "code",
   "execution_count": 17,
   "metadata": {},
   "outputs": [
    {
     "name": "stdout",
     "output_type": "stream",
     "text": [
      "4th element from the start :  1\n",
      "4th element from the last :  1\n"
     ]
    }
   ],
   "source": [
    "#Question 7: wap to get the 4th element from the first and last in a tuple\n",
    "tup=(\"a\",\"b\",\"c\",1,2,3,4)\n",
    "print(\"4th element from the start : \",tup[3])\n",
    "print(\"4th element from the last : \",tup[-4])"
   ]
  },
  {
   "cell_type": "code",
   "execution_count": null,
   "metadata": {},
   "outputs": [],
   "source": [
    "#Question 8: wap to create the colon of a tuple\n",
    "\n"
   ]
  },
  {
   "cell_type": "code",
   "execution_count": 23,
   "metadata": {},
   "outputs": [
    {
     "name": "stdout",
     "output_type": "stream",
     "text": [
      "the element which are repeating \n",
      "a\n",
      "1\n",
      "2\n",
      "1\n",
      "2\n",
      "1\n",
      "a\n"
     ]
    }
   ],
   "source": [
    "#Question 9: wap to find repeated items of the programme\n",
    "tup=(\"a\",\"b\",\"c\",1,2,3,1,2,1,\"a\")\n",
    "l=len(tup)\n",
    "print('the element which are repeating ')\n",
    "for i in range(0,l):\n",
    "    b=tup.count(tup[i])\n",
    "    if(b>1):\n",
    "        print(tup[i])"
   ]
  },
  {
   "cell_type": "code",
   "execution_count": 33,
   "metadata": {},
   "outputs": [
    {
     "name": "stdout",
     "output_type": "stream",
     "text": [
      "enter the element to be checked : 22\n",
      "element not found\n"
     ]
    }
   ],
   "source": [
    "#Question 10:wap to check weather a element esist in an tuple or not\n",
    "tup=(\"a\",\"b\",\"c\",1,2,3,1,2,1,\"a\")\n",
    "a_b=eval(input('enter the element to be checked : '))\n",
    "a_=len(tup)\n",
    "count1=0\n",
    "for i in range (0,a_):\n",
    "    if(a_b==tup[i]):\n",
    "        count1+=1\n",
    "        print(\"element found at index : \",i)\n",
    "        break\n",
    "if(count1==0):\n",
    "    print(\"element not found\")"
   ]
  },
  {
   "cell_type": "code",
   "execution_count": 34,
   "metadata": {},
   "outputs": [
    {
     "name": "stdout",
     "output_type": "stream",
     "text": [
      "before conversion:  ['a', 'b', 'c', 1, 2, 3, 1, 2, 1, 'a']\n",
      "after conversion:  ('a', 'b', 'c', 1, 2, 3, 1, 2, 1, 'a')\n"
     ]
    }
   ],
   "source": [
    "#Question 11:wap to convert a list into tuple\n",
    "lst=[\"a\",\"b\",\"c\",1,2,3,1,2,1,\"a\"]\n",
    "print(\"before conversion: \",lst)\n",
    "tup=tuple(lst)\n",
    "print(\"after conversion: \",tup)"
   ]
  },
  {
   "cell_type": "code",
   "execution_count": 36,
   "metadata": {},
   "outputs": [
    {
     "name": "stdout",
     "output_type": "stream",
     "text": [
      "the tuple before deletion :  ('a', 'b', 'c', 1, 2, 3, 1, 2, 1, 'a')\n",
      "the tuple after deletion of an element is :  ('a', 'b', 'c', 2, 3, 1, 2, 1, 'a')\n"
     ]
    }
   ],
   "source": [
    "#Question 12:wap to remove an item from a tuple\n",
    "tup=(\"a\",\"b\",\"c\",1,2,3,1,2,1,\"a\")\n",
    "print(\"the tuple before deletion : \",tup)\n",
    "tup=tup[:3]+tup[4:]\n",
    "print('the tuple after deletion of an element is : ',tup)"
   ]
  },
  {
   "cell_type": "code",
   "execution_count": 37,
   "metadata": {},
   "outputs": [
    {
     "name": "stdout",
     "output_type": "stream",
     "text": [
      "('c', 1, 2)\n"
     ]
    }
   ],
   "source": [
    "#Question 13:wap to slic a tuple\n",
    "tup=(\"a\",\"b\",\"c\",1,2,3,1,2,1,\"a\")\n",
    "print(tup[2:5])\n"
   ]
  },
  {
   "cell_type": "code",
   "execution_count": 38,
   "metadata": {},
   "outputs": [
    {
     "name": "stdout",
     "output_type": "stream",
     "text": [
      "enter the element to be checked : 3\n",
      "element found at index :  5\n"
     ]
    }
   ],
   "source": [
    "#Question 14:wap to find the index of an item of a tuple\n",
    "tup=(\"a\",\"b\",\"c\",1,2,3,1,2,1,\"a\")\n",
    "a_b=eval(input('enter the element to be checked : '))\n",
    "a_=len(tup)\n",
    "for i in range (0,a_):\n",
    "    if(a_b==tup[i]):\n",
    "       \n",
    "        print(\"element found at index : \",i)\n",
    "        break\n"
   ]
  },
  {
   "cell_type": "code",
   "execution_count": 39,
   "metadata": {},
   "outputs": [
    {
     "name": "stdout",
     "output_type": "stream",
     "text": [
      "the length of the tuple :  10\n"
     ]
    }
   ],
   "source": [
    "#Question 15:wap to find the lenght of tuple\n",
    "tup=(\"a\",\"b\",\"c\",1,2,3,1,2,1,\"a\")\n",
    "print(\"the length of the tuple : \",len(tup))"
   ]
  },
  {
   "cell_type": "code",
   "execution_count": 46,
   "metadata": {},
   "outputs": [
    {
     "name": "stdout",
     "output_type": "stream",
     "text": [
      "tuple before reversing : ('a', 'b', 'c', 1, 2, 3, 1, 2, 1, 'a')\n",
      "tuple after reversing ('a', 1, 2, 1, 3, 2, 1, 'c', 'b', 'a')\n"
     ]
    }
   ],
   "source": [
    "#Question 16:wap to reverse a tuple\n",
    "tup=(\"a\",\"b\",\"c\",1,2,3,1,2,1,\"a\")\n",
    "print(\"tuple before reversing :\",tup)\n",
    "b=reversed(tup)\n",
    "print(\"tuple after reversing\",tuple(b))"
   ]
  },
  {
   "cell_type": "code",
   "execution_count": null,
   "metadata": {},
   "outputs": [],
   "source": []
  }
 ],
 "metadata": {
  "kernelspec": {
   "display_name": "Python 3",
   "language": "python",
   "name": "python3"
  },
  "language_info": {
   "codemirror_mode": {
    "name": "ipython",
    "version": 3
   },
   "file_extension": ".py",
   "mimetype": "text/x-python",
   "name": "python",
   "nbconvert_exporter": "python",
   "pygments_lexer": "ipython3",
   "version": "3.8.5"
  }
 },
 "nbformat": 4,
 "nbformat_minor": 4
}
